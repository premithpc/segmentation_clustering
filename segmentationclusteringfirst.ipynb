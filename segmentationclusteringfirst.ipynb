{
    "cells": [
        {
            "metadata": {},
            "cell_type": "code",
            "source": "from bs4 import BeautifulSoup\nimport requests\nimport pandas as pd\nimport numpy as np\n# download url data from internet\nurl = \"https://en.wikipedia.org/wiki/List_of_postal_codes_of_Canada:_M\"\nsource = requests.get(url).text\nCanada_data = BeautifulSoup(source, 'lxml')\n\n# creat a new Dataframe\ncolumn_names = ['Postalcode','Borough','Neighborhood']\ntoronto = pd.DataFrame(columns = column_names)\ncontent = Canada_data.find('div', class_='mw-parser-output')\ntable = content.table.tbody\npostcode = 0\nborough = 0\nneighborhood = 0\n\nfor tr in table.find_all('tr'):\n    i = 0\n    for td in tr.find_all('td'):\n        if i == 0:\n            postcode = td.text\n            i = i + 1\n        elif i == 1:\n            borough = td.text\n            i = i + 1\n        elif i == 2: \n            neighborhood = td.text.strip('\\n').replace(']','')\n    toronto = toronto.append({'Postalcode': postcode,'Borough': borough,'Neighborhood': neighborhood},ignore_index=True)\n\n# clean dataframe \ntoronto = toronto[toronto.Borough!='Not assigned']\ntoronto = toronto[toronto.Borough!= 0]\ntoronto.reset_index(drop = True, inplace = True)\ni = 0\nfor i in range(0,toronto.shape[0]):\n    if toronto.iloc[i][2] == 'Not assigned':\n        toronto.iloc[i][2] = toronto.iloc[i][1]\n        i = i+1\n                                 \ndf = toronto.groupby(['Postalcode','Borough'])['Neighborhood'].apply(', '.join).reset_index()\n\ndef neighborhood_list(grouped):    \n    return ', '.join(sorted(grouped['Neighborhood'].tolist()))\n                    \ngrp = df.groupby(['Postalcode', 'Borough'])\ndf2 = grp.apply(neighborhood_list).reset_index(name='Neighborhood')\ndf2.rename(columns={'Postalcode':'Postal Code'}, inplace=True)\n",
            "execution_count": 1,
            "outputs": []
        },
        {
            "metadata": {},
            "cell_type": "code",
            "source": "df2.head(11)",
            "execution_count": 2,
            "outputs": [
                {
                    "output_type": "execute_result",
                    "execution_count": 2,
                    "data": {
                        "text/plain": "   Postal Code      Borough                                       Neighborhood\n0          M1B  Scarborough                                     Rouge, Malvern\n1          M1C  Scarborough             Highland Creek, Rouge Hill, Port Union\n2          M1E  Scarborough                  Guildwood, Morningside, West Hill\n3          M1G  Scarborough                                             Woburn\n4          M1H  Scarborough                                          Cedarbrae\n5          M1J  Scarborough                                Scarborough Village\n6          M1K  Scarborough        East Birchmount Park, Ionview, Kennedy Park\n7          M1L  Scarborough                    Clairlea, Golden Mile, Oakridge\n8          M1M  Scarborough    Cliffcrest, Cliffside, Scarborough Village West\n9          M1N  Scarborough                        Birch Cliff, Cliffside West\n10         M1P  Scarborough  Dorset Park, Scarborough Town Centre, Wexford ...",
                        "text/html": "<div>\n<style scoped>\n    .dataframe tbody tr th:only-of-type {\n        vertical-align: middle;\n    }\n\n    .dataframe tbody tr th {\n        vertical-align: top;\n    }\n\n    .dataframe thead th {\n        text-align: right;\n    }\n</style>\n<table border=\"1\" class=\"dataframe\">\n  <thead>\n    <tr style=\"text-align: right;\">\n      <th></th>\n      <th>Postal Code</th>\n      <th>Borough</th>\n      <th>Neighborhood</th>\n    </tr>\n  </thead>\n  <tbody>\n    <tr>\n      <th>0</th>\n      <td>M1B</td>\n      <td>Scarborough</td>\n      <td>Rouge, Malvern</td>\n    </tr>\n    <tr>\n      <th>1</th>\n      <td>M1C</td>\n      <td>Scarborough</td>\n      <td>Highland Creek, Rouge Hill, Port Union</td>\n    </tr>\n    <tr>\n      <th>2</th>\n      <td>M1E</td>\n      <td>Scarborough</td>\n      <td>Guildwood, Morningside, West Hill</td>\n    </tr>\n    <tr>\n      <th>3</th>\n      <td>M1G</td>\n      <td>Scarborough</td>\n      <td>Woburn</td>\n    </tr>\n    <tr>\n      <th>4</th>\n      <td>M1H</td>\n      <td>Scarborough</td>\n      <td>Cedarbrae</td>\n    </tr>\n    <tr>\n      <th>5</th>\n      <td>M1J</td>\n      <td>Scarborough</td>\n      <td>Scarborough Village</td>\n    </tr>\n    <tr>\n      <th>6</th>\n      <td>M1K</td>\n      <td>Scarborough</td>\n      <td>East Birchmount Park, Ionview, Kennedy Park</td>\n    </tr>\n    <tr>\n      <th>7</th>\n      <td>M1L</td>\n      <td>Scarborough</td>\n      <td>Clairlea, Golden Mile, Oakridge</td>\n    </tr>\n    <tr>\n      <th>8</th>\n      <td>M1M</td>\n      <td>Scarborough</td>\n      <td>Cliffcrest, Cliffside, Scarborough Village West</td>\n    </tr>\n    <tr>\n      <th>9</th>\n      <td>M1N</td>\n      <td>Scarborough</td>\n      <td>Birch Cliff, Cliffside West</td>\n    </tr>\n    <tr>\n      <th>10</th>\n      <td>M1P</td>\n      <td>Scarborough</td>\n      <td>Dorset Park, Scarborough Town Centre, Wexford ...</td>\n    </tr>\n  </tbody>\n</table>\n</div>"
                    },
                    "metadata": {}
                }
            ]
        },
        {
            "metadata": {},
            "cell_type": "markdown",
            "source": "second question answer"
        },
        {
            "metadata": {},
            "cell_type": "code",
            "source": "toronto_geocsv = 'https://cocl.us/Geospatial_data'\n!wget -q -O 'toronto_m.geospatial_data.csv' toronto_geocsv\ngeocsv_data = pd.read_csv(toronto_geocsv).set_index(\"Postal Code\")\ngeocsv_data.head(12)",
            "execution_count": 3,
            "outputs": [
                {
                    "output_type": "execute_result",
                    "execution_count": 3,
                    "data": {
                        "text/plain": "              Latitude  Longitude\nPostal Code                      \nM1B          43.806686 -79.194353\nM1C          43.784535 -79.160497\nM1E          43.763573 -79.188711\nM1G          43.770992 -79.216917\nM1H          43.773136 -79.239476\nM1J          43.744734 -79.239476\nM1K          43.727929 -79.262029\nM1L          43.711112 -79.284577\nM1M          43.716316 -79.239476\nM1N          43.692657 -79.264848\nM1P          43.757410 -79.273304\nM1R          43.750072 -79.295849",
                        "text/html": "<div>\n<style scoped>\n    .dataframe tbody tr th:only-of-type {\n        vertical-align: middle;\n    }\n\n    .dataframe tbody tr th {\n        vertical-align: top;\n    }\n\n    .dataframe thead th {\n        text-align: right;\n    }\n</style>\n<table border=\"1\" class=\"dataframe\">\n  <thead>\n    <tr style=\"text-align: right;\">\n      <th></th>\n      <th>Latitude</th>\n      <th>Longitude</th>\n    </tr>\n    <tr>\n      <th>Postal Code</th>\n      <th></th>\n      <th></th>\n    </tr>\n  </thead>\n  <tbody>\n    <tr>\n      <th>M1B</th>\n      <td>43.806686</td>\n      <td>-79.194353</td>\n    </tr>\n    <tr>\n      <th>M1C</th>\n      <td>43.784535</td>\n      <td>-79.160497</td>\n    </tr>\n    <tr>\n      <th>M1E</th>\n      <td>43.763573</td>\n      <td>-79.188711</td>\n    </tr>\n    <tr>\n      <th>M1G</th>\n      <td>43.770992</td>\n      <td>-79.216917</td>\n    </tr>\n    <tr>\n      <th>M1H</th>\n      <td>43.773136</td>\n      <td>-79.239476</td>\n    </tr>\n    <tr>\n      <th>M1J</th>\n      <td>43.744734</td>\n      <td>-79.239476</td>\n    </tr>\n    <tr>\n      <th>M1K</th>\n      <td>43.727929</td>\n      <td>-79.262029</td>\n    </tr>\n    <tr>\n      <th>M1L</th>\n      <td>43.711112</td>\n      <td>-79.284577</td>\n    </tr>\n    <tr>\n      <th>M1M</th>\n      <td>43.716316</td>\n      <td>-79.239476</td>\n    </tr>\n    <tr>\n      <th>M1N</th>\n      <td>43.692657</td>\n      <td>-79.264848</td>\n    </tr>\n    <tr>\n      <th>M1P</th>\n      <td>43.757410</td>\n      <td>-79.273304</td>\n    </tr>\n    <tr>\n      <th>M1R</th>\n      <td>43.750072</td>\n      <td>-79.295849</td>\n    </tr>\n  </tbody>\n</table>\n</div>"
                    },
                    "metadata": {}
                }
            ]
        },
        {
            "metadata": {},
            "cell_type": "code",
            "source": "df = pd.merge(geocsv_data, df2, on='Postal Code')\ndf.head(12)",
            "execution_count": 4,
            "outputs": [
                {
                    "output_type": "execute_result",
                    "execution_count": 4,
                    "data": {
                        "text/plain": "   Postal Code   Latitude  Longitude      Borough  \\\n0          M1B  43.806686 -79.194353  Scarborough   \n1          M1C  43.784535 -79.160497  Scarborough   \n2          M1E  43.763573 -79.188711  Scarborough   \n3          M1G  43.770992 -79.216917  Scarborough   \n4          M1H  43.773136 -79.239476  Scarborough   \n5          M1J  43.744734 -79.239476  Scarborough   \n6          M1K  43.727929 -79.262029  Scarborough   \n7          M1L  43.711112 -79.284577  Scarborough   \n8          M1M  43.716316 -79.239476  Scarborough   \n9          M1N  43.692657 -79.264848  Scarborough   \n10         M1P  43.757410 -79.273304  Scarborough   \n11         M1R  43.750072 -79.295849  Scarborough   \n\n                                         Neighborhood  \n0                                      Rouge, Malvern  \n1              Highland Creek, Rouge Hill, Port Union  \n2                   Guildwood, Morningside, West Hill  \n3                                              Woburn  \n4                                           Cedarbrae  \n5                                 Scarborough Village  \n6         East Birchmount Park, Ionview, Kennedy Park  \n7                     Clairlea, Golden Mile, Oakridge  \n8     Cliffcrest, Cliffside, Scarborough Village West  \n9                         Birch Cliff, Cliffside West  \n10  Dorset Park, Scarborough Town Centre, Wexford ...  \n11                                  Maryvale, Wexford  ",
                        "text/html": "<div>\n<style scoped>\n    .dataframe tbody tr th:only-of-type {\n        vertical-align: middle;\n    }\n\n    .dataframe tbody tr th {\n        vertical-align: top;\n    }\n\n    .dataframe thead th {\n        text-align: right;\n    }\n</style>\n<table border=\"1\" class=\"dataframe\">\n  <thead>\n    <tr style=\"text-align: right;\">\n      <th></th>\n      <th>Postal Code</th>\n      <th>Latitude</th>\n      <th>Longitude</th>\n      <th>Borough</th>\n      <th>Neighborhood</th>\n    </tr>\n  </thead>\n  <tbody>\n    <tr>\n      <th>0</th>\n      <td>M1B</td>\n      <td>43.806686</td>\n      <td>-79.194353</td>\n      <td>Scarborough</td>\n      <td>Rouge, Malvern</td>\n    </tr>\n    <tr>\n      <th>1</th>\n      <td>M1C</td>\n      <td>43.784535</td>\n      <td>-79.160497</td>\n      <td>Scarborough</td>\n      <td>Highland Creek, Rouge Hill, Port Union</td>\n    </tr>\n    <tr>\n      <th>2</th>\n      <td>M1E</td>\n      <td>43.763573</td>\n      <td>-79.188711</td>\n      <td>Scarborough</td>\n      <td>Guildwood, Morningside, West Hill</td>\n    </tr>\n    <tr>\n      <th>3</th>\n      <td>M1G</td>\n      <td>43.770992</td>\n      <td>-79.216917</td>\n      <td>Scarborough</td>\n      <td>Woburn</td>\n    </tr>\n    <tr>\n      <th>4</th>\n      <td>M1H</td>\n      <td>43.773136</td>\n      <td>-79.239476</td>\n      <td>Scarborough</td>\n      <td>Cedarbrae</td>\n    </tr>\n    <tr>\n      <th>5</th>\n      <td>M1J</td>\n      <td>43.744734</td>\n      <td>-79.239476</td>\n      <td>Scarborough</td>\n      <td>Scarborough Village</td>\n    </tr>\n    <tr>\n      <th>6</th>\n      <td>M1K</td>\n      <td>43.727929</td>\n      <td>-79.262029</td>\n      <td>Scarborough</td>\n      <td>East Birchmount Park, Ionview, Kennedy Park</td>\n    </tr>\n    <tr>\n      <th>7</th>\n      <td>M1L</td>\n      <td>43.711112</td>\n      <td>-79.284577</td>\n      <td>Scarborough</td>\n      <td>Clairlea, Golden Mile, Oakridge</td>\n    </tr>\n    <tr>\n      <th>8</th>\n      <td>M1M</td>\n      <td>43.716316</td>\n      <td>-79.239476</td>\n      <td>Scarborough</td>\n      <td>Cliffcrest, Cliffside, Scarborough Village West</td>\n    </tr>\n    <tr>\n      <th>9</th>\n      <td>M1N</td>\n      <td>43.692657</td>\n      <td>-79.264848</td>\n      <td>Scarborough</td>\n      <td>Birch Cliff, Cliffside West</td>\n    </tr>\n    <tr>\n      <th>10</th>\n      <td>M1P</td>\n      <td>43.757410</td>\n      <td>-79.273304</td>\n      <td>Scarborough</td>\n      <td>Dorset Park, Scarborough Town Centre, Wexford ...</td>\n    </tr>\n    <tr>\n      <th>11</th>\n      <td>M1R</td>\n      <td>43.750072</td>\n      <td>-79.295849</td>\n      <td>Scarborough</td>\n      <td>Maryvale, Wexford</td>\n    </tr>\n  </tbody>\n</table>\n</div>"
                    },
                    "metadata": {}
                }
            ]
        },
        {
            "metadata": {},
            "cell_type": "code",
            "source": "df = df[['Postal Code', 'Borough', 'Neighborhood', 'Latitude', 'Longitude']]\ndf.head(12)",
            "execution_count": 6,
            "outputs": [
                {
                    "output_type": "execute_result",
                    "execution_count": 6,
                    "data": {
                        "text/plain": "   Postal Code      Borough  \\\n0          M1B  Scarborough   \n1          M1C  Scarborough   \n2          M1E  Scarborough   \n3          M1G  Scarborough   \n4          M1H  Scarborough   \n5          M1J  Scarborough   \n6          M1K  Scarborough   \n7          M1L  Scarborough   \n8          M1M  Scarborough   \n9          M1N  Scarborough   \n10         M1P  Scarborough   \n11         M1R  Scarborough   \n\n                                         Neighborhood   Latitude  Longitude  \n0                                      Rouge, Malvern  43.806686 -79.194353  \n1              Highland Creek, Rouge Hill, Port Union  43.784535 -79.160497  \n2                   Guildwood, Morningside, West Hill  43.763573 -79.188711  \n3                                              Woburn  43.770992 -79.216917  \n4                                           Cedarbrae  43.773136 -79.239476  \n5                                 Scarborough Village  43.744734 -79.239476  \n6         East Birchmount Park, Ionview, Kennedy Park  43.727929 -79.262029  \n7                     Clairlea, Golden Mile, Oakridge  43.711112 -79.284577  \n8     Cliffcrest, Cliffside, Scarborough Village West  43.716316 -79.239476  \n9                         Birch Cliff, Cliffside West  43.692657 -79.264848  \n10  Dorset Park, Scarborough Town Centre, Wexford ...  43.757410 -79.273304  \n11                                  Maryvale, Wexford  43.750072 -79.295849  ",
                        "text/html": "<div>\n<style scoped>\n    .dataframe tbody tr th:only-of-type {\n        vertical-align: middle;\n    }\n\n    .dataframe tbody tr th {\n        vertical-align: top;\n    }\n\n    .dataframe thead th {\n        text-align: right;\n    }\n</style>\n<table border=\"1\" class=\"dataframe\">\n  <thead>\n    <tr style=\"text-align: right;\">\n      <th></th>\n      <th>Postal Code</th>\n      <th>Borough</th>\n      <th>Neighborhood</th>\n      <th>Latitude</th>\n      <th>Longitude</th>\n    </tr>\n  </thead>\n  <tbody>\n    <tr>\n      <th>0</th>\n      <td>M1B</td>\n      <td>Scarborough</td>\n      <td>Rouge, Malvern</td>\n      <td>43.806686</td>\n      <td>-79.194353</td>\n    </tr>\n    <tr>\n      <th>1</th>\n      <td>M1C</td>\n      <td>Scarborough</td>\n      <td>Highland Creek, Rouge Hill, Port Union</td>\n      <td>43.784535</td>\n      <td>-79.160497</td>\n    </tr>\n    <tr>\n      <th>2</th>\n      <td>M1E</td>\n      <td>Scarborough</td>\n      <td>Guildwood, Morningside, West Hill</td>\n      <td>43.763573</td>\n      <td>-79.188711</td>\n    </tr>\n    <tr>\n      <th>3</th>\n      <td>M1G</td>\n      <td>Scarborough</td>\n      <td>Woburn</td>\n      <td>43.770992</td>\n      <td>-79.216917</td>\n    </tr>\n    <tr>\n      <th>4</th>\n      <td>M1H</td>\n      <td>Scarborough</td>\n      <td>Cedarbrae</td>\n      <td>43.773136</td>\n      <td>-79.239476</td>\n    </tr>\n    <tr>\n      <th>5</th>\n      <td>M1J</td>\n      <td>Scarborough</td>\n      <td>Scarborough Village</td>\n      <td>43.744734</td>\n      <td>-79.239476</td>\n    </tr>\n    <tr>\n      <th>6</th>\n      <td>M1K</td>\n      <td>Scarborough</td>\n      <td>East Birchmount Park, Ionview, Kennedy Park</td>\n      <td>43.727929</td>\n      <td>-79.262029</td>\n    </tr>\n    <tr>\n      <th>7</th>\n      <td>M1L</td>\n      <td>Scarborough</td>\n      <td>Clairlea, Golden Mile, Oakridge</td>\n      <td>43.711112</td>\n      <td>-79.284577</td>\n    </tr>\n    <tr>\n      <th>8</th>\n      <td>M1M</td>\n      <td>Scarborough</td>\n      <td>Cliffcrest, Cliffside, Scarborough Village West</td>\n      <td>43.716316</td>\n      <td>-79.239476</td>\n    </tr>\n    <tr>\n      <th>9</th>\n      <td>M1N</td>\n      <td>Scarborough</td>\n      <td>Birch Cliff, Cliffside West</td>\n      <td>43.692657</td>\n      <td>-79.264848</td>\n    </tr>\n    <tr>\n      <th>10</th>\n      <td>M1P</td>\n      <td>Scarborough</td>\n      <td>Dorset Park, Scarborough Town Centre, Wexford ...</td>\n      <td>43.757410</td>\n      <td>-79.273304</td>\n    </tr>\n    <tr>\n      <th>11</th>\n      <td>M1R</td>\n      <td>Scarborough</td>\n      <td>Maryvale, Wexford</td>\n      <td>43.750072</td>\n      <td>-79.295849</td>\n    </tr>\n  </tbody>\n</table>\n</div>"
                    },
                    "metadata": {}
                }
            ]
        },
        {
            "metadata": {},
            "cell_type": "markdown",
            "source": "Third question answer"
        },
        {
            "metadata": {},
            "cell_type": "code",
            "source": "df.to_csv('Toronto.TASK_II_df.csv',index=False)\ndf.shape",
            "execution_count": 7,
            "outputs": [
                {
                    "output_type": "execute_result",
                    "execution_count": 7,
                    "data": {
                        "text/plain": "(103, 5)"
                    },
                    "metadata": {}
                }
            ]
        }
    ],
    "metadata": {
        "kernelspec": {
            "name": "python3",
            "display_name": "Python 3.6",
            "language": "python"
        },
        "language_info": {
            "name": "python",
            "version": "3.6.9",
            "mimetype": "text/x-python",
            "codemirror_mode": {
                "name": "ipython",
                "version": 3
            },
            "pygments_lexer": "ipython3",
            "nbconvert_exporter": "python",
            "file_extension": ".py"
        }
    },
    "nbformat": 4,
    "nbformat_minor": 1
}